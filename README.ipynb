{
 "cells": [
  {
   "cell_type": "markdown",
   "metadata": {},
   "source": [
    "# 数据分析项目列表\n",
    " \n",
    " ----\n",
    " - [Test-a-Perceptual-Phenomenon](https://github.com/ketra21/Test-a-Perceptual-Phenomenon)\n",
    " \n",
    " 基于斯特鲁普任务的心理学的实验进行t检验，从而验证，；两种条件下，被实验者的反应时间是否有明显差异。\n",
    " \n",
    " ----\n",
    " - [Data Cleaning](https://github.com/ketra21/data_cleaning)\n",
    " \n",
    " 对Twitter狗狗评分账号爬取并得到脏数据，从内容和结构上进行数据清洗，最终得到整洁数据，并对数据进行简单分析和可视化。\n",
    " \n",
    " ----\n",
    " - [Finding_Donors](https://github.com/ketra21/Finding_Donors)\n",
    " \n",
    " 为慈善机构寻找捐助者，通过对被调查者年龄，劳动类型，教育程度，在校学习年数，婚姻状态，职业，家庭情况，人中，性别，国家等，建立四种算法（朴素算法、支撑向量机、高斯朴素贝叶斯、随机森林算法），使用F-beta score作为评价指标，对算法效果进行比较，最终发现随机森林模型为最佳模型。预测其收入是否大于50K而对其分类，从而减使得慈善机构可以更有针对性开展后续工作。\n",
    " \n",
    " ----\n",
    " - [Customer_Segments](https://github.com/ketra21/Customer_Segments)\n",
    " \n",
    " 在这个项目中，分析一个数据集的内在结构，这个数据集包含很多客户针对不同类型产品的年度采购额（用金额表示）。采用K-Means 聚类算法或者是高斯混合模型聚类算法进行聚类，并比较效果，前者可以更好地描述一个批发商不同种类顾客之间的差异。这样做将能够使得批发商能够更好的组织他们的物流服务以满足每个客户的需求。\n",
    " \n",
    " ----\n",
    " - [Project_Bike_Sharing](https://github.com/ketra21/Project_Bike_Sharing)\n",
    " \n",
    " 在该项目中建立了一个监督学习的神经网络，根据训练集中季节、日期、小时数、天气、是否周末、是否节假日等特征及租客人数的标签进行训练，使用两层网络结构，S型函数作为隐藏层的激活函数，建立神经网络模型，可以根据未来不同情况，对租客人数进行预测。\n",
    " \n",
    " ----\n",
    " - [Facial_Keypoint_Detection](https://github.com/ketra21/Facial_Keypoint_Detection)\n",
    " \n",
    " 脸部特征点检测（进行中）"
   ]
  }
 ],
 "metadata": {
  "kernelspec": {
   "display_name": "Python 3",
   "language": "python",
   "name": "python3"
  },
  "language_info": {
   "codemirror_mode": {
    "name": "ipython",
    "version": 3
   },
   "file_extension": ".py",
   "mimetype": "text/x-python",
   "name": "python",
   "nbconvert_exporter": "python",
   "pygments_lexer": "ipython3",
   "version": "3.6.6"
  }
 },
 "nbformat": 4,
 "nbformat_minor": 2
}
